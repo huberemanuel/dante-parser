{
 "cells": [
  {
   "cell_type": "code",
   "execution_count": null,
   "metadata": {},
   "outputs": [],
   "source": [
    "import xlwt\n",
    "import pandas as pd\n",
    "import conllu"
   ]
  },
  {
   "cell_type": "code",
   "execution_count": null,
   "metadata": {},
   "outputs": [],
   "source": [
    "test = conllu.parse(open(\"dante_01_test.conllu\", \"r\").read())\n",
    "udpipe2 = conllu.parse(open(\"udpipe2_test_clean.conllu\", \"r\").read())"
   ]
  },
  {
   "cell_type": "code",
   "execution_count": null,
   "metadata": {},
   "outputs": [],
   "source": [
    "ud_tags = [\"ADJ\", \"ADV\", \"INTJ\", \"NOUN\", \"PROPN\", \"VERB\", \"ADP\", \"AUX\", \"CCONJ\", \"SCONJ\", \"DET\", \"NUM\", \"PART\", \"PRON\", \"PUNCT\", \"SYM\", \"X\"]\n",
    "wrong_tag_style = xlwt.easyxf(\n",
    "        \"font: name Arial, bold on, color white;\"\n",
    "        \"pattern: pattern solid, pattern_fore_colour red, pattern_back_colour red;\"\n",
    "        \"borders: left thin, right thin, top thin, bottom thin;\"\n",
    "    )"
   ]
  },
  {
   "cell_type": "markdown",
   "metadata": {},
   "source": [
    "Clean tags"
   ]
  },
  {
   "cell_type": "code",
   "execution_count": null,
   "metadata": {},
   "outputs": [],
   "source": [
    "def clean_tree(set_sents):\n",
    "    for i, sent in enumerate(set_sents):\n",
    "        for j, token in enumerate(sent):\n",
    "            if token[\"upos\"] not in ud_tags:\n",
    "                # print(\"Updated: \", token[\"upos\"])\n",
    "                set_sents[i][j][\"upos\"] = \"X\" \n",
    "    return set_sents\n",
    "udpipe2 = clean_tree(udpipe2)\n",
    "test = clean_tree(test)"
   ]
  },
  {
   "cell_type": "code",
   "execution_count": null,
   "metadata": {},
   "outputs": [],
   "source": [
    "sheets = {}\n",
    "\n",
    "for ud_tag in ud_tags:\n",
    "    sheets[ud_tag] = {}\n",
    "    done = False\n",
    "    for other_tag in ud_tags:\n",
    "        sheets[ud_tag][other_tag] = {}\n",
    "\n",
    "    for test_sent in test:\n",
    "        for udpipe2_sent in udpipe2:\n",
    "            if test_sent.metadata[\"sent_id\"] == udpipe2_sent.metadata[\"sent_id\"]:\n",
    "                done = True\n",
    "                for true_token, pred_token in zip(test_sent, udpipe2_sent):\n",
    "                    if true_token[\"upos\"] == ud_tag and true_token[\"upos\"] != pred_token[\"upos\"]:\n",
    "                        sheets[ud_tag][pred_token[\"upos\"]][ test_sent.metadata[\"sent_id\"] ] = {\"pred\": [x['upos'] for x in udpipe2_sent], \"true\": [x['upos'] for x in test_sent], \"words\": [x['form'] for x in test_sent]}\n",
    "                break\n"
   ]
  },
  {
   "cell_type": "code",
   "execution_count": null,
   "metadata": {},
   "outputs": [],
   "source": [
    "for ud_tag, pred_tag in sheets.items():\n",
    "    book = xlwt.Workbook()\n",
    "    for sheet_type, sent_ids in pred_tag.items():\n",
    "        if sheet_type == ud_tag:\n",
    "            continue\n",
    "        n_row = 0\n",
    "        sheet = book.add_sheet(sheet_type, cell_overwrite_ok=True)\n",
    "        row = sheet.row(n_row)\n",
    "        row.write(0, f\"Casos de {ud_tag} incorretamente etiquetados com {sheet_type}\")\n",
    "        n_row += 1\n",
    "        for sent_id, tag_types in sent_ids.items():\n",
    "            row = sheet.row(n_row)\n",
    "            row.write(0, sent_id)\n",
    "            for i, word in enumerate(tag_types[\"words\"], start=1):\n",
    "                row.write(i, word)\n",
    "            \n",
    "            n_row += 1\n",
    "            row = sheet.row(n_row)\n",
    "            row.write(0, \"Referência\")\n",
    "            for i, tag in enumerate(tag_types[\"true\"], start=1):\n",
    "                row.write(i, tag)\n",
    "            \n",
    "            n_row += 1\n",
    "            row = sheet.row(n_row)\n",
    "            row.write(0, \"Predição\")\n",
    "            for i, tag in enumerate(tag_types[\"pred\"], start=1):\n",
    "                # DEBUG\n",
    "                # if tag == \"ADJ\" and sheet_type == \"ADV\" and tag_types[\"true\"][i - 1] == \"ADJ\":\n",
    "                #     print(tag_types[\"true\"][i - 1], tag_types[\"pred\"][i - 1])\n",
    "                if tag_types[\"true\"][i - 1] != tag and \\\n",
    "                   tag_types[\"true\"][i - 1] == ud_tag and \\\n",
    "                   tag_types[\"pred\"][i - 1] == sheet_type:\n",
    "                    row.write(i, tag, wrong_tag_style)\n",
    "                else:\n",
    "                    row.write(i, tag)\n",
    "                    \n",
    "            n_row += 2\n",
    "        book.save(f\"{ud_tag}.xlsx\")"
   ]
  }
 ],
 "metadata": {
  "interpreter": {
   "hash": "f0ec79b4a55c63df0dd9654ed5869d327d816b28bc21e66c726ab02a571d0f31"
  },
  "kernelspec": {
   "display_name": "Python 3",
   "language": "python",
   "name": "python3"
  },
  "language_info": {
   "codemirror_mode": {
    "name": "ipython",
    "version": 3
   },
   "file_extension": ".py",
   "mimetype": "text/x-python",
   "name": "python",
   "nbconvert_exporter": "python",
   "pygments_lexer": "ipython3",
   "version": "3.8.3"
  }
 },
 "nbformat": 4,
 "nbformat_minor": 2
}
